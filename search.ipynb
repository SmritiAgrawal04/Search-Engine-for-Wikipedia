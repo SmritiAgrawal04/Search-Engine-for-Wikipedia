{
 "cells": [
  {
   "cell_type": "code",
   "execution_count": 467,
   "metadata": {},
   "outputs": [],
   "source": [
    "import string\n",
    "import nltk\n",
    "# nltk.download('stopwords')\n",
    "from nltk.corpus import stopwords\n",
    "from nltk.stem.porter import *\n",
    "from nltk.stem.snowball import SnowballStemmer\n",
    "\n",
    "STOPWORDS = set(stopwords.words('english')) \n",
    "URL_STOP_WORDS = set([\"http\", \"https\", \"www\", \"ftp\", \"com\", \"net\", \"org\", \"archives\", \"pdf\", \"html\", \"png\", \"txt\", \"redirect\", \"align\", \"realign\", \"valign\", \"nonalign\", \"malign\", \"unalign\", \"salign\", \"qalign\", \"halign\", \"font\", \"fontsiz\", \"fontcolor\", \"backgroundcolor\", \"background\", \"style\", \"center\", \"text\"])\n"
   ]
  },
  {
   "cell_type": "code",
   "execution_count": 468,
   "metadata": {},
   "outputs": [],
   "source": [
    "def readIndex():\n",
    "    f= open(\"InvertedIndex.txt\", \"r\")\n",
    "    Index= {}\n",
    "\n",
    "    lines= f.readlines()\n",
    "    line =0\n",
    "\n",
    "    while line< len(lines):\n",
    "        text = lines[line].split(\":\")\n",
    "        word= text[0]\n",
    "        frequency= text[1]\n",
    "        line +=1\n",
    "        while line< len(lines) and \":\" not in lines[line]:\n",
    "            frequency += lines[line]\n",
    "            line +=1\n",
    "        Index[word]= frequency\n",
    "\n",
    "    f.close()\n",
    "    return Index"
   ]
  },
  {
   "cell_type": "code",
   "execution_count": 469,
   "metadata": {},
   "outputs": [],
   "source": [
    "def cleanQuery(query):\n",
    "    stemmer= SnowballStemmer(\"english\")\n",
    "    query = re.sub(r'\\\\d+', '', query) #Remove numbers\n",
    "    query = re.sub(r'<(.*?)>','',query) #Remove tags if any\n",
    "    query = re.sub(r'http[s]?://(?:[a-zA-Z]|[0-9]|[$-_@.&+]|[!*\\(\\),]|(?:%[0-9a-fA-F][0-9a-fA-F]))+', '', query, flags=re.MULTILINE) #Remove Url\n",
    "    query = re.sub(r'{\\|(.*?)\\|}', '', query, flags=re.MULTILINE) #Remove CSS\n",
    "    query = re.sub(r'\\[\\[file:(.*?)\\]\\]', '', query, flags=re.MULTILINE) #Remove File\n",
    "    query = re.sub(r'[^\\w\\s]', '', query) \n",
    "    query = query.split()\n",
    "    query = [x for x in query if x not in STOPWORDS and x not in URL_STOP_WORDS]\n",
    "    query = [stemmer.stem(word) for word in query]\n",
    "#     print (\"Query in Processing: {}\".format(query))\n",
    "    \n",
    "    return query"
   ]
  },
  {
   "cell_type": "code",
   "execution_count": 470,
   "metadata": {},
   "outputs": [],
   "source": [
    "def search_fieldQuery(documents, field_type):\n",
    "    fieldDocs= []\n",
    "    documents= documents.split(\"|\")\n",
    "    for doc in documents:\n",
    "        if field_type in doc:\n",
    "            fieldDocs.append(doc)\n",
    "    return fieldDocs"
   ]
  },
  {
   "cell_type": "code",
   "execution_count": 471,
   "metadata": {},
   "outputs": [],
   "source": [
    "def process_fieldQuery(query):\n",
    "    fieldInfo= {}\n",
    "    \n",
    "    field= query.find(\"t:\")\n",
    "    if field !=-1:\n",
    "        fieldInfo[field]= \"t:\"\n",
    "        \n",
    "    field= query.find(\"i:\")\n",
    "    if field !=-1:\n",
    "        fieldInfo[field]= \"i:\"\n",
    "        \n",
    "    field= query.find(\"c:\")\n",
    "    if field !=-1:\n",
    "        fieldInfo[field]= \"c:\"\n",
    "        \n",
    "    field= query.find(\"b:\")\n",
    "    if field !=-1:\n",
    "        fieldInfo[field]= \"b:\"\n",
    "    \n",
    "    field= query.find(\"r:\")\n",
    "    if field !=-1:\n",
    "        fieldInfo[field]= \"r:\"\n",
    "        \n",
    "    field= query.find(\"l:\")\n",
    "    if field !=-1:\n",
    "        fieldInfo[field]= \"l:\"\n",
    "    \n",
    "    fieldInfo= sorted(fieldInfo.items())\n",
    "    fieldInfo.append((1234567890, \"\"))\n",
    "#     print(fieldInfo)\n",
    "    i=0\n",
    "    while i+1 <len(fieldInfo):\n",
    "        fieldQuery = (query[fieldInfo[i][0]+2 : fieldInfo[i+1][0]]).lower()\n",
    "#         print (fieldQuery)\n",
    "        fieldQuery = cleanQuery(fieldQuery)\n",
    "#         print (fieldQuery)\n",
    "        for word in fieldQuery:\n",
    "            if word not in Index:\n",
    "                print (word, \" : \", [])\n",
    "            else:\n",
    "                value= Index[word]\n",
    "                print(word, \" : \", search_fieldQuery(value, fieldInfo[i][1][:1]))\n",
    "            print()\n",
    "        i +=1\n",
    "    "
   ]
  },
  {
   "cell_type": "code",
   "execution_count": 472,
   "metadata": {},
   "outputs": [
    {
     "name": "stdout",
     "output_type": "stream",
     "text": [
      "sachintwegsdgeyuhg  :  []\n",
      "gfeyrygergtr  :  []\n",
      "ramesh  :  185-i2|588-b1|1462-b1|1763-b13|2173-b1|2718-b1|3081-i3|3159-b1|3602-b1|4133-b1|4175-b2|4434-b1|4577-b1|5013-b1|5137-b1|5634-b1|6039-b1|6875-b1|7396-b1|8296-b1|8553-i2|8616-b1|8777-b1|8831-b3|8993-b1|9290-b1|10097-b1|10209-b1|10260-b1|10799-b3|11186-b1|11705-b1|11721-b1|11997-b1|12184-b1|12347-b1|12406-b1|12583-b1|12625-b1|12725-b1|12864-b1|13003-b1|13217-b1|13544-b1|13849-b1|13950-b1|14210-b1|14224-b1|14386-b1|15201-b1|15331-b1|16099-b1|16219-b1|16363-b1|16651-b1|16848-b1|17080-b1|17706-b1|17904-b2|18158-b2|18193-b1|19211-b1|19508-b2|19623-b1\n",
      "\n",
      "tendlkar  :  []\n"
     ]
    }
   ],
   "source": [
    "Index= readIndex()\n",
    "\n",
    "query= \"Sachin%$TWEGSDGEY&^UHG GFEYRYGERG$^TRE Ramesh Tendlkar\"\n",
    "\n",
    "if \"t:\" in query or \"i:\" in query or \"c:\" in query or \"b:\"in query or \"r:\" in query or \"l:\" in query:    \n",
    "    process_fieldQuery(query)\n",
    "else:\n",
    "    query = cleanQuery(query)\n",
    "    for word in query:\n",
    "        if word.lower() in Index:\n",
    "            print (word, \" : \", Index[word.lower()])\n",
    "        else:\n",
    "            print (word, \" : \", [])"
   ]
  },
  {
   "cell_type": "code",
   "execution_count": null,
   "metadata": {},
   "outputs": [],
   "source": []
  }
 ],
 "metadata": {
  "kernelspec": {
   "display_name": "Python 3",
   "language": "python",
   "name": "python3"
  },
  "language_info": {
   "codemirror_mode": {
    "name": "ipython",
    "version": 3
   },
   "file_extension": ".py",
   "mimetype": "text/x-python",
   "name": "python",
   "nbconvert_exporter": "python",
   "pygments_lexer": "ipython3",
   "version": "3.6.9"
  }
 },
 "nbformat": 4,
 "nbformat_minor": 2
}
