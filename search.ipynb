{
 "cells": [
  {
   "cell_type": "code",
   "execution_count": null,
   "metadata": {},
   "outputs": [],
   "source": [
    "def readIndex():\n",
    "    f= open(\"InvertedIndex.txt\", \"r\")\n",
    "    Index= {}\n",
    "\n",
    "    lines= f.read()\n",
    "    line =0\n",
    "\n",
    "    while line< len(lines):\n",
    "        text = lines[line].split(\":\")\n",
    "        word= text[0]\n",
    "        frequency= text[1]\n",
    "        line +=1\n",
    "        while line< len(lines) && \":\" not in lines[line]:\n",
    "            frequency += lines[line]\n",
    "            line +=1\n",
    "\n",
    "        Index[word]= frequency\n",
    "\n",
    "    f.close()\n",
    "    return Index"
   ]
  },
  {
   "cell_type": "code",
   "execution_count": null,
   "metadata": {},
   "outputs": [],
   "source": [
    "def process_fieldQuery(query):\n",
    "    pass"
   ]
  },
  {
   "cell_type": "code",
   "execution_count": null,
   "metadata": {},
   "outputs": [],
   "source": [
    "def process_plainQuery(query):\n",
    "    words= query.split()\n",
    "    docSets= []\n",
    "    for word in words:\n",
    "        current_set ={}\n",
    "        if word in Index:\n",
    "            value= Index[word]\n",
    "            value= value.split('|')\n",
    "            for doc in value:\n",
    "                doc_num= doc.split(\"-\")[0]\n",
    "                current_set.add(doc_num)\n",
    "        docSets.append(current_set)"
   ]
  },
  {
   "cell_type": "code",
   "execution_count": null,
   "metadata": {},
   "outputs": [],
   "source": [
    "Titles= readTitles()\n",
    "Index= readIndex()\n",
    "\n",
    "query= \"\"\n",
    "\n",
    "if \":\" in query:\n",
    "    process_fieldQuery(query)\n",
    "else:\n",
    "    process_plainQuery(query)"
   ]
  }
 ],
 "metadata": {
  "kernelspec": {
   "display_name": "Python 3",
   "language": "python",
   "name": "python3"
  },
  "language_info": {
   "codemirror_mode": {
    "name": "ipython",
    "version": 3
   },
   "file_extension": ".py",
   "mimetype": "text/x-python",
   "name": "python",
   "nbconvert_exporter": "python",
   "pygments_lexer": "ipython3",
   "version": "3.6.9"
  }
 },
 "nbformat": 4,
 "nbformat_minor": 2
}
